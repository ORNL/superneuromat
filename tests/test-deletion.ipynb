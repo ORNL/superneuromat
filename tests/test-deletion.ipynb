{
 "cells": [
  {
   "cell_type": "code",
   "execution_count": 1,
   "id": "cfc2235d",
   "metadata": {},
   "outputs": [
    {
     "name": "stdout",
     "output_type": "stream",
     "text": [
      "3\n"
     ]
    }
   ],
   "source": [
    "import superneuromat as snm\n",
    "\n",
    "snn = snm.SNN()\n",
    "\n",
    "snn.create_neuron(threshold=0.0, leak=0.0, reset_state=0.0, refractory_period=0)\n",
    "snn.create_neuron(threshold=1.0, leak=0.0, reset_state=0.0, refractory_period=0)\n",
    "snn.create_neuron(threshold=2.0, leak=0.0, reset_state=0.0, refractory_period=0)\n",
    "print(snn.create_neuron(threshold=2.0, leak=0.0, reset_state=0.0, refractory_period=0).idx)"
   ]
  },
  {
   "cell_type": "code",
   "execution_count": 2,
   "id": "7568c0ee",
   "metadata": {},
   "outputs": [
    {
     "data": {
      "text/plain": [
       "[]"
      ]
     },
     "execution_count": 2,
     "metadata": {},
     "output_type": "execute_result"
    }
   ],
   "source": [
    "list(snn._neuron_cache.items())"
   ]
  },
  {
   "cell_type": "code",
   "execution_count": 3,
   "id": "38ce7634",
   "metadata": {},
   "outputs": [
    {
     "name": "stdout",
     "output_type": "stream",
     "text": [
      "SNN with 3 neurons and 3 synapses @ 0x2b2f8b3d7c0\n",
      "STDP is globally enabled\n",
      "apos: []\n",
      "aneg: []\n",
      "3 synapses have STDP enabled.\n",
      "\n",
      "Neuron Info (3):\n",
      "   idx       state      thresh        leak  ref_state  ref_period spikes\n",
      "     0           0           0           0          0           0 []\n",
      "     1           0           1           0          0           0 []\n",
      "     2           0           2           0          0           0 []\n",
      "\n",
      "Synapse Info (3):\n",
      "    idx    pre ->   post      weight    delay stdp_enabled\n",
      "      0      0 ->      1           1       1 Y\n",
      "      1      1 ->      0           2       1 Y\n",
      "      2      0 ->      2           3       1 Y\n",
      "\n",
      "Input Spikes (0) for 0 time steps:\n",
      " Time:  Spike-value    Destination\n",
      "\n",
      "\n",
      "Spike Train:\n",
      " t|id \n",
      "0 spikes since last reset\n"
     ]
    }
   ],
   "source": [
    "import superneuromat as snm\n",
    "\n",
    "snn = snm.SNN()\n",
    "\n",
    "a = snn.create_neuron(threshold=0.0, leak=0.0, reset_state=0.0, refractory_period=0)\n",
    "b = snn.create_neuron(threshold=1.0, leak=0.0, reset_state=0.0, refractory_period=0)\n",
    "c = snn.create_neuron(threshold=2.0, leak=0.0, reset_state=0.0, refractory_period=0)\n",
    "\n",
    "ab = a.connect_child(b, weight=1.0, delay=1, stdp_enabled=True)\n",
    "ba = b.connect_child(a, weight=2.0, delay=1, stdp_enabled=True)\n",
    "ac = a.connect_child(c, weight=3.0, delay=1, stdp_enabled=True)\n",
    "\n",
    "print(snn)"
   ]
  },
  {
   "cell_type": "code",
   "execution_count": 4,
   "id": "e7e5382a",
   "metadata": {},
   "outputs": [],
   "source": [
    "import weakref as wr"
   ]
  },
  {
   "cell_type": "code",
   "execution_count": 5,
   "id": "dbb23388",
   "metadata": {},
   "outputs": [
    {
     "data": {
      "text/plain": [
       "[(0, <Synapse 0 on SNN at 0x2b2f8b3d7c0>),\n",
       " (1, <Synapse 1 on SNN at 0x2b2f8b3d7c0>),\n",
       " (2, <Synapse 2 on SNN at 0x2b2f8b3d7c0>)]"
      ]
     },
     "execution_count": 5,
     "metadata": {},
     "output_type": "execute_result"
    }
   ],
   "source": [
    "list(snn._synapse_cache.items())"
   ]
  },
  {
   "cell_type": "code",
   "execution_count": 6,
   "id": "df34977c",
   "metadata": {},
   "outputs": [
    {
     "data": {
      "text/plain": [
       "<Synapse 0 on SNN at 0x2b2f8b3d7c0>"
      ]
     },
     "execution_count": 6,
     "metadata": {},
     "output_type": "execute_result"
    }
   ],
   "source": [
    "ab"
   ]
  },
  {
   "cell_type": "code",
   "execution_count": 7,
   "id": "c4812d24",
   "metadata": {},
   "outputs": [
    {
     "name": "stdout",
     "output_type": "stream",
     "text": [
      "1 2\n"
     ]
    }
   ],
   "source": [
    "print(ba.idx, ac.idx)"
   ]
  },
  {
   "cell_type": "code",
   "execution_count": 8,
   "id": "6a77b046",
   "metadata": {},
   "outputs": [
    {
     "name": "stdout",
     "output_type": "stream",
     "text": [
      "SynapseListView into model at 0x2b2f8b3d7c0 (3):\n",
      "    idx    pre ->   post      weight    delay stdp_enabled\n",
      "      0      0 ->      1           1       1 Y\n",
      "      1      1 ->      0           2       1 Y\n",
      "      2      0 ->      2           3       1 Y\n"
     ]
    }
   ],
   "source": [
    "sl = snn.synapses[:]\n",
    "print(sl.info())"
   ]
  },
  {
   "cell_type": "code",
   "execution_count": 9,
   "id": "7561b050",
   "metadata": {},
   "outputs": [
    {
     "data": {
      "text/plain": [
       "[<weakproxy at 0x000002B2DC01B510 to SynapseListView at 0x000002B2F8C87C00>]"
      ]
     },
     "execution_count": 9,
     "metadata": {},
     "output_type": "execute_result"
    }
   ],
   "source": [
    "snn._synapselist_cache"
   ]
  },
  {
   "cell_type": "code",
   "execution_count": 10,
   "id": "10aa7420",
   "metadata": {},
   "outputs": [
    {
     "data": {
      "text/plain": [
       "<Synapse 1 on SNN at 0x2b2f8b3d7c0>"
      ]
     },
     "execution_count": 10,
     "metadata": {},
     "output_type": "execute_result"
    }
   ],
   "source": [
    "ba"
   ]
  },
  {
   "cell_type": "code",
   "execution_count": 11,
   "id": "f67ca192",
   "metadata": {},
   "outputs": [
    {
     "data": {
      "text/plain": [
       "{1: 0, 2: 1}"
      ]
     },
     "execution_count": 11,
     "metadata": {},
     "output_type": "execute_result"
    }
   ],
   "source": [
    "snn.delete_synapses([ab])"
   ]
  },
  {
   "cell_type": "code",
   "execution_count": 12,
   "id": "37de6998",
   "metadata": {},
   "outputs": [
    {
     "name": "stdout",
     "output_type": "stream",
     "text": [
      "None\n"
     ]
    }
   ],
   "source": [
    "print(ab.idx)"
   ]
  },
  {
   "cell_type": "code",
   "execution_count": 13,
   "id": "1ef2c897",
   "metadata": {},
   "outputs": [
    {
     "name": "stdout",
     "output_type": "stream",
     "text": [
      "SynapseListView into model at 0x2b2f8b3d7c0 (2):\n",
      "    idx    pre ->   post      weight    delay stdp_enabled\n",
      "      0      1 ->      0           2       1 Y\n",
      "      1      0 ->      2           3       1 Y\n"
     ]
    },
    {
     "data": {
      "text/plain": [
       "[0, 1]"
      ]
     },
     "execution_count": 13,
     "metadata": {},
     "output_type": "execute_result"
    }
   ],
   "source": [
    "print(sl.info())\n",
    "sl.indices"
   ]
  },
  {
   "cell_type": "code",
   "execution_count": 14,
   "id": "e2172088",
   "metadata": {},
   "outputs": [
    {
     "data": {
      "text/plain": [
       "[(0, <Synapse 0 on SNN at 0x2b2f8b3d7c0>),\n",
       " (1, <Synapse 1 on SNN at 0x2b2f8b3d7c0>)]"
      ]
     },
     "execution_count": 14,
     "metadata": {},
     "output_type": "execute_result"
    }
   ],
   "source": [
    "list(snn._synapse_cache.items())"
   ]
  },
  {
   "cell_type": "code",
   "execution_count": 15,
   "id": "f0763836",
   "metadata": {},
   "outputs": [
    {
     "name": "stdout",
     "output_type": "stream",
     "text": [
      "0 1\n"
     ]
    }
   ],
   "source": [
    "print(ba.idx, ac.idx)"
   ]
  },
  {
   "cell_type": "code",
   "execution_count": 16,
   "id": "08050ca8",
   "metadata": {},
   "outputs": [
    {
     "data": {
      "text/plain": [
       "<Synapse 0 on SNN at 0x2b2f8b3d7c0>"
      ]
     },
     "execution_count": 16,
     "metadata": {},
     "output_type": "execute_result"
    }
   ],
   "source": [
    "ba"
   ]
  },
  {
   "cell_type": "code",
   "execution_count": 17,
   "id": "5ff71e58",
   "metadata": {},
   "outputs": [
    {
     "data": {
      "text/plain": [
       "<Synapse 1 on SNN at 0x2b2f8b3d7c0>"
      ]
     },
     "execution_count": 17,
     "metadata": {},
     "output_type": "execute_result"
    }
   ],
   "source": [
    "ac"
   ]
  },
  {
   "cell_type": "code",
   "execution_count": 18,
   "id": "cf6288ff",
   "metadata": {},
   "outputs": [
    {
     "name": "stdout",
     "output_type": "stream",
     "text": [
      "SNN with 3 neurons and 2 synapses @ 0x2b2f8b3d7c0\n",
      "STDP is globally enabled\n",
      "apos: []\n",
      "aneg: []\n",
      "2 synapses have STDP enabled.\n",
      "\n",
      "Neuron Info (3):\n",
      "   idx       state      thresh        leak  ref_state  ref_period spikes\n",
      "     0           0           0           0          0           0 []\n",
      "     1           0           1           0          0           0 []\n",
      "     2           0           2           0          0           0 []\n",
      "\n",
      "Synapse Info (2):\n",
      "    idx    pre ->   post      weight    delay stdp_enabled\n",
      "      0      1 ->      0           2       1 Y\n",
      "      1      0 ->      2           3       1 Y\n",
      "\n",
      "Input Spikes (0) for 0 time steps:\n",
      " Time:  Spike-value    Destination\n",
      "\n",
      "\n",
      "Spike Train:\n",
      " t|id \n",
      "0 spikes since last reset\n"
     ]
    }
   ],
   "source": [
    "print(snn)"
   ]
  },
  {
   "cell_type": "code",
   "execution_count": 19,
   "id": "9ba4e081",
   "metadata": {},
   "outputs": [
    {
     "data": {
      "text/plain": [
       "({0: 0, 2: 1}, {1: 0})"
      ]
     },
     "execution_count": 19,
     "metadata": {},
     "output_type": "execute_result"
    }
   ],
   "source": [
    "snn.delete_neuron(b)"
   ]
  },
  {
   "cell_type": "code",
   "execution_count": 20,
   "id": "a66dccf6",
   "metadata": {},
   "outputs": [
    {
     "name": "stdout",
     "output_type": "stream",
     "text": [
      "SNN with 2 neurons and 1 synapses @ 0x2b2f8b3d7c0\n",
      "STDP is globally enabled\n",
      "apos: []\n",
      "aneg: []\n",
      "1 synapses have STDP enabled.\n",
      "\n",
      "Neuron Info (2):\n",
      "   idx       state      thresh        leak  ref_state  ref_period spikes\n",
      "     0           0           0           0          0           0 []\n",
      "     1           0           2           0          0           0 []\n",
      "\n",
      "Synapse Info (1):\n",
      "    idx    pre ->   post      weight    delay stdp_enabled\n",
      "      0      0 ->      1           3       1 Y\n",
      "\n",
      "Input Spikes (0) for 0 time steps:\n",
      " Time:  Spike-value    Destination\n",
      "\n",
      "\n",
      "Spike Train:\n",
      " t|id \n",
      "0 spikes since last reset\n"
     ]
    }
   ],
   "source": [
    "print(snn)"
   ]
  },
  {
   "cell_type": "code",
   "execution_count": 21,
   "id": "0cfb9611",
   "metadata": {},
   "outputs": [
    {
     "data": {
      "text/plain": [
       "{<Neuron 0 on SNN at 0x2b2f8b3d7c0>: 0, <Neuron 1 on SNN at 0x2b2f8b3d7c0>: 1}"
      ]
     },
     "execution_count": 21,
     "metadata": {},
     "output_type": "execute_result"
    }
   ],
   "source": [
    "d = {neuron: neuron.idx for neuron in snn.neurons}\n",
    "d"
   ]
  },
  {
   "cell_type": "code",
   "execution_count": 22,
   "id": "77183fee",
   "metadata": {},
   "outputs": [],
   "source": [
    "snn.neurons[0].m = None\n"
   ]
  },
  {
   "cell_type": "code",
   "execution_count": 23,
   "id": "52e39576",
   "metadata": {},
   "outputs": [
    {
     "data": {
      "text/plain": [
       "0"
      ]
     },
     "execution_count": 23,
     "metadata": {},
     "output_type": "execute_result"
    }
   ],
   "source": [
    "d[snn.neurons[0]]"
   ]
  }
 ],
 "metadata": {
  "kernelspec": {
   "display_name": "superneuro (3.12.9)",
   "language": "python",
   "name": "python3"
  },
  "language_info": {
   "codemirror_mode": {
    "name": "ipython",
    "version": 3
   },
   "file_extension": ".py",
   "mimetype": "text/x-python",
   "name": "python",
   "nbconvert_exporter": "python",
   "pygments_lexer": "ipython3",
   "version": "3.12.9"
  }
 },
 "nbformat": 4,
 "nbformat_minor": 5
}
